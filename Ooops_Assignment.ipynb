{
 "cells": [
  {
   "cell_type": "markdown",
   "metadata": {},
   "source": [
    "## **Constructor:**"
   ]
  },
  {
   "cell_type": "markdown",
   "metadata": {},
   "source": [
    "### 1. What is a constructor in Python? Explain its purpose and usage."
   ]
  },
  {
   "cell_type": "markdown",
   "metadata": {},
   "source": [
    "\n",
    "- In Python, a constructor is a special method used to initialize an object when it is created. The constructor method is named __init__, and it is automatically called when an instance of a class is created.\n",
    "\n",
    "- Purpose of a Constructor\n",
    "The primary purpose of a constructor is to:\n",
    "\n",
    "- Initialize Object Attributes: It allows you to set up initial values for the instance variables of an object.\n",
    "- Encapsulate Object Behavior: It ensures that the object is properly set up and ready for use.\n",
    "- Enable Customization: You can pass arguments to the constructor to customize the initialization of the object."
   ]
  },
  {
   "cell_type": "markdown",
   "metadata": {},
   "source": [
    "### 2. Differentiate between a parameterless constructor and a parameterized constructor in Python."
   ]
  },
  {
   "cell_type": "markdown",
   "metadata": {},
   "source": [
    "- Parameterless Constructor\n",
    "A parameterless constructor is a constructor that does not take any arguments other than the default self. It is typically used when you do not need to pass specific values during object creation or when default values are sufficient for initialization.\n",
    "\n",
    "\n",
    "- A parameterized constructor accepts one or more arguments in addition to self. These arguments are used to initialize instance variables or perform specific tasks during object creation."
   ]
  },
  {
   "cell_type": "markdown",
   "metadata": {},
   "source": [
    "### 3. How do you define a constructor in a Python class? Provide an example."
   ]
  },
  {
   "cell_type": "markdown",
   "metadata": {},
   "source": [
    "- In Python, a constructor is defined in a class using the special method __init__. This method is automatically called when an object of the class is created, and it is used to initialize the object's attributes."
   ]
  },
  {
   "cell_type": "code",
   "execution_count": 3,
   "metadata": {},
   "outputs": [
    {
     "name": "stdout",
     "output_type": "stream",
     "text": [
      "Car: Toyota Corolla, Year:2022\n"
     ]
    }
   ],
   "source": [
    "# Defining a Constructor in a Python Class\n",
    "\n",
    "class car:\n",
    "    def __init__(self, brand,model,year):\n",
    "        self.brand = brand\n",
    "        self.model = model\n",
    "        self.year = year\n",
    "\n",
    "    def display_details(self):\n",
    "        print(f\"Car: {self.brand} {self.model}, Year:{self.year}\")\n",
    "\n",
    "car1 = car(\"Toyota\", \"Corolla\", 2022)\n",
    "\n",
    "car1.display_details()"
   ]
  },
  {
   "cell_type": "markdown",
   "metadata": {},
   "source": [
    "### 4. 4. Explain the `__init__` method in Python and its role in constructors."
   ]
  },
  {
   "cell_type": "markdown",
   "metadata": {},
   "source": [
    "- The __init__ method in Python is a special method used to initialize an object's attributes when the object is created. It acts as a constructor in Python, and its role is to prepare the object by setting up its initial state."
   ]
  },
  {
   "cell_type": "markdown",
   "metadata": {},
   "source": [
    "Role of __init__ Method\n",
    "- Initialize Attributes: It is primarily used to assign values to instance variables.\n",
    "- Encapsulate Object Setup: Ensures that the object is properly set up and ready for use immediately after creation.\n",
    "- Support Customization: Allows passing different arguments to create objects with varied initial states."
   ]
  },
  {
   "cell_type": "markdown",
   "metadata": {},
   "source": [
    "### 5. 5. In a class named `Person`, create a constructor that initializes the `name` and `age` attributes. Provide an example of creating an object of this class."
   ]
  },
  {
   "cell_type": "code",
   "execution_count": 5,
   "metadata": {},
   "outputs": [
    {
     "name": "stdout",
     "output_type": "stream",
     "text": [
      "Name: Rajan, Age: 24\n"
     ]
    }
   ],
   "source": [
    "class Person:\n",
    "    def __init__(self, name,age):\n",
    "        self.name = name\n",
    "        self.age = age\n",
    "\n",
    "    def display_info(self):\n",
    "        print(f\"Name: {self.name}, Age: {self.age}\")\n",
    "\n",
    "person1 = Person(\"Rajan\", \"24\")\n",
    "\n",
    "person1.display_info()"
   ]
  },
  {
   "cell_type": "markdown",
   "metadata": {},
   "source": [
    "### 6. How can you call a constructor explicitly in Python? Give an example."
   ]
  },
  {
   "cell_type": "markdown",
   "metadata": {},
   "source": [
    "- In Python, the constructor (__init__ method) is automatically called when you create an object of a class. However, if needed, you can explicitly call the constructor using the class name directly. This is uncommon in regular use but might be used in specific scenarios such as reinitializing an object or creating a new instance dynamically."
   ]
  },
  {
   "cell_type": "code",
   "execution_count": 6,
   "metadata": {},
   "outputs": [
    {
     "name": "stdout",
     "output_type": "stream",
     "text": [
      "Name: Kumar, Age: 25\n",
      "Name: Bob, Age: 25\n"
     ]
    }
   ],
   "source": [
    "class Person:\n",
    "    def __init__(self, name, age):\n",
    "        self.name = name\n",
    "        self.age = age\n",
    "\n",
    "    def display_info(self):\n",
    "        print(f\"Name: {self.name}, Age: {self.age}\")\n",
    "\n",
    "# Creating an object normally (implicit constructor call)\n",
    "person1 = Person(\"Kumar\", 25)\n",
    "person1.display_info() \n",
    "\n",
    "# Explicitly calling the constructor\n",
    "person2 = Person.__init__(person1, \"Bob\", 25)  \n",
    "person1.display_info()  "
   ]
  },
  {
   "cell_type": "markdown",
   "metadata": {},
   "source": [
    "### 7. 7. What is the significance of the `self` parameter in Python constructors? Explain with an example."
   ]
  },
  {
   "cell_type": "markdown",
   "metadata": {},
   "source": [
    "\n",
    "Significance of self in Python Constructors\n",
    "\n",
    "1. Access to Instance Attributes: It allows the constructor to define instance-specific attributes, which can be accessed or modified throughout the lifetime of the object.\n",
    "2. Instance Association: It ensures that each object has its own copy of attributes and methods, independent of other instances.\n",
    "3. Mandatory First Parameter: The first parameter of all instance methods, including the constructor, must be self (or any other valid variable name, but self is the convention)."
   ]
  },
  {
   "cell_type": "code",
   "execution_count": 7,
   "metadata": {},
   "outputs": [
    {
     "name": "stdout",
     "output_type": "stream",
     "text": [
      "Name: Alice, Age: 30\n",
      "Name: Bob, Age: 25\n"
     ]
    }
   ],
   "source": [
    "class Person:\n",
    "    def __init__(self, name, age):  # Constructor with 'self' parameter\n",
    "        self.name = name  # Assigning to instance attribute\n",
    "        self.age = age\n",
    "\n",
    "    def display_info(self):  # Instance method using 'self'\n",
    "        print(f\"Name: {self.name}, Age: {self.age}\")\n",
    "\n",
    "# Creating two objects of the class\n",
    "person1 = Person(\"Alice\", 30)\n",
    "person2 = Person(\"Bob\", 25)\n",
    "\n",
    "# Accessing attributes and methods\n",
    "person1.display_info() \n",
    "person2.display_info()  \n"
   ]
  },
  {
   "cell_type": "markdown",
   "metadata": {},
   "source": [
    "### 8. Discuss the concept of default constructors in Python. When are they used?"
   ]
  },
  {
   "cell_type": "markdown",
   "metadata": {},
   "source": [
    "- A default constructor in Python is a constructor that takes no arguments except the implicit self parameter. It is used to initialize objects with default or fixed values when no additional parameters are provided during object creation. This constructor is implicitly called when an object is instantiated."
   ]
  },
  {
   "cell_type": "code",
   "execution_count": 8,
   "metadata": {},
   "outputs": [
    {
     "name": "stdout",
     "output_type": "stream",
     "text": [
      "Name: Rajan, Age: 25\n"
     ]
    }
   ],
   "source": [
    "# Example\n",
    "class Person:\n",
    "    def __init__(self):\n",
    "        self.name = \"Rajan\"\n",
    "        self.age = 25\n",
    "\n",
    "    def display_info(self):\n",
    "        print(f\"Name: {self.name}, Age: {self.age}\")\n",
    "\n",
    "person = Person()\n",
    "person.display_info()"
   ]
  },
  {
   "cell_type": "markdown",
   "metadata": {},
   "source": [
    "### 9. Create a Python class called `Rectangle` with a constructor that initializes the `width` and `height` attributes. Provide a method to calculate the area of the rectangle."
   ]
  },
  {
   "cell_type": "code",
   "execution_count": 9,
   "metadata": {},
   "outputs": [
    {
     "name": "stdout",
     "output_type": "stream",
     "text": [
      "Area of rectangle: 50\n"
     ]
    }
   ],
   "source": [
    "class Rectangle:\n",
    "    def __init__(self,width,height):\n",
    "        self.width = width\n",
    "        self.height = height\n",
    "\n",
    "    def calculate_area(self):\n",
    "        return self.width * self.height\n",
    "    \n",
    "if __name__ == \"__main__\":\n",
    "    rectangle = Rectangle(10,5)\n",
    "    print(f\"Area of rectangle: {rectangle.calculate_area()}\")"
   ]
  },
  {
   "cell_type": "markdown",
   "metadata": {},
   "source": [
    "### 10. 10. How can you have multiple constructors in a Python class? Explain with an example."
   ]
  },
  {
   "cell_type": "markdown",
   "metadata": {},
   "source": [
    "- In Python, you cannot directly have multiple constructors like you can in some other programming languages (e.g., Java or C++). However, you can achieve similar behavior using default arguments or class methods (specifically @classmethod) to create alternative constructors."
   ]
  },
  {
   "cell_type": "code",
   "execution_count": 10,
   "metadata": {},
   "outputs": [
    {
     "name": "stdout",
     "output_type": "stream",
     "text": [
      "John 25\n",
      "Alice 30\n"
     ]
    }
   ],
   "source": [
    "class Person:\n",
    "    def __init__(self, name, age=None):\n",
    "        self.name = name\n",
    "        if age is not None:\n",
    "            self.age = age\n",
    "        else:\n",
    "            self.age = 30  # default age\n",
    "\n",
    "# Creating instances\n",
    "p1 = Person(\"John\", 25)  # With age\n",
    "p2 = Person(\"Alice\")  # Default age\n",
    "\n",
    "print(p1.name, p1.age)  # Output: John 25\n",
    "print(p2.name, p2.age)  # Output: Alice 30"
   ]
  },
  {
   "cell_type": "markdown",
   "metadata": {},
   "source": [
    "### 11. What is method overloading, and how is it related to constructors in Python?"
   ]
  },
  {
   "cell_type": "markdown",
   "metadata": {},
   "source": [
    "- Method Overloading in Python (Simulated)\n",
    "Python does not allow multiple methods with the same name but different signatures. If you define a method multiple times with the same name, the last definition will overwrite the previous ones. However, you can simulate overloading using:\n",
    "\n",
    "1. Default Arguments: You can give default values to parameters to make a function accept different numbers of arguments.\n",
    "\n",
    "2. Variable-length Arguments (*args and **kwargs): *args allows for any number of positional arguments, and **kwargs allows for any number of keyword arguments."
   ]
  },
  {
   "cell_type": "markdown",
   "metadata": {},
   "source": [
    "### 12. Explain the use of the `super()` function in Python constructors. Provide an example."
   ]
  },
  {
   "cell_type": "markdown",
   "metadata": {},
   "source": [
    "- Use of super() in Constructors\n",
    "When a subclass inherits from a parent class, it can override the parent class's constructor (__init__ method). However, you often still need to call the parent class's constructor to properly initialize attributes defined in the parent class. This is where super() comes in."
   ]
  },
  {
   "cell_type": "code",
   "execution_count": 11,
   "metadata": {},
   "outputs": [
    {
     "name": "stdout",
     "output_type": "stream",
     "text": [
      "Animal Buddy is created.\n",
      "Dog Buddy of breed Golden Retriever is created.\n"
     ]
    }
   ],
   "source": [
    "class Animal:\n",
    "    def __init__(self, name):\n",
    "        self.name = name\n",
    "        print(f\"Animal {self.name} is created.\")\n",
    "\n",
    "class Dog(Animal):\n",
    "    def __init__(self, name, breed):\n",
    "        super().__init__(name) \n",
    "        self.breed = breed\n",
    "        print(f\"Dog {self.name} of breed {self.breed} is created.\")\n",
    "dog1 = Dog(\"Buddy\", \"Golden Retriever\")"
   ]
  },
  {
   "cell_type": "markdown",
   "metadata": {},
   "source": [
    "### 13. Create a class called `Book` with a constructor that initializes the `title`, `author`, and `published_year` attributes. Provide a method to display book details."
   ]
  },
  {
   "cell_type": "code",
   "execution_count": 12,
   "metadata": {},
   "outputs": [
    {
     "name": "stdout",
     "output_type": "stream",
     "text": [
      "Title: To Kill a Mockingbird\n",
      "Author: Harper Lee\n",
      "Published Year: 1960\n"
     ]
    }
   ],
   "source": [
    "class Book:\n",
    "    def __init__(self, title, author, published_year):\n",
    "        # Constructor initializes title, author, and published_year\n",
    "        self.title = title\n",
    "        self.author = author\n",
    "        self.published_year = published_year\n",
    "\n",
    "    def display_details(self):\n",
    "        # Method to display book details\n",
    "        print(f\"Title: {self.title}\")\n",
    "        print(f\"Author: {self.author}\")\n",
    "        print(f\"Published Year: {self.published_year}\")\n",
    "\n",
    "# Creating an instance of Book\n",
    "book1 = Book(\"To Kill a Mockingbird\", \"Harper Lee\", 1960)\n",
    "\n",
    "# Displaying the book details\n",
    "book1.display_details()\n"
   ]
  },
  {
   "cell_type": "markdown",
   "metadata": {},
   "source": [
    "### 14. Discuss the differences between constructors and regular methods in Python classes."
   ]
  },
  {
   "cell_type": "markdown",
   "metadata": {},
   "source": [
    "- constructors are used for setting up an object when it’s created, while \n",
    "- regular methods define behaviors that can be invoked after the object is created."
   ]
  },
  {
   "cell_type": "markdown",
   "metadata": {},
   "source": [
    "### 15. Explain the role of the `self` parameter in instance variable initialization within a constructor."
   ]
  },
  {
   "cell_type": "markdown",
   "metadata": {},
   "source": [
    "- Role of self in Instance Variable Initialization:\n",
    "1. Refers to the Current Instance:\n",
    "\n",
    "The self parameter refers to the current instance of the class. It allows you to differentiate between instance variables (specific to an object) and local variables (which are temporary and exist only within a method).\n",
    "\n",
    "2. Access to Instance Variables:\n",
    "\n",
    "Inside the constructor, you use self to assign values to instance variables. These instance variables are specific to each object created from the class and are stored in memory.\n",
    "self ensures that the variables are bound to the current instance of the object, meaning each instance can have its own separate values for those variables.\n",
    "\n",
    "3. Allows Modifying Object State:\n",
    "\n",
    "By using self, the constructor can modify or initialize the attributes of an object. Each object created from the class will have its own copy of these instance variables, and any changes to one object’s attributes will not affect others."
   ]
  },
  {
   "cell_type": "markdown",
   "metadata": {},
   "source": [
    "### 16. 16. How do you prevent a class from having multiple instances by using constructors in Python? Provide an example."
   ]
  },
  {
   "cell_type": "markdown",
   "metadata": {},
   "source": [
    "- To prevent a class from having multiple instances in Python, you can use a singleton pattern. A singleton ensures that a class has only one instance and provides a global point of access to that instance."
   ]
  },
  {
   "cell_type": "code",
   "execution_count": null,
   "metadata": {},
   "outputs": [],
   "source": [
    "class Singleton:\n",
    "    _instance = None  # This will hold the single instance of the class\n",
    "    \n",
    "    def __new__(cls, *args, **kwargs):\n",
    "        if not cls._instance:\n",
    "            cls._instance = super(Singleton, cls).__new__(cls, *args, **kwargs)\n",
    "        return cls._instance\n",
    "    \n",
    "    def __init__(self, name):\n",
    "        if not hasattr(self, 'initialized'):  # Ensure initialization happens only once\n",
    "            self.name = name\n",
    "            self.initialized = True\n",
    "            print(f\"Singleton object created with name: {self.name}\")\n",
    "        else:\n",
    "            print(f\"Singleton already initialized with name: {self.name}\")\n",
    "    \n",
    "    def display(self):\n",
    "        print(f\"Singleton name: {self.name}\")\n",
    "\n",
    "# Creating instances of Singleton\n",
    "s1 = Singleton(\"First Instance\")\n",
    "s2 = Singleton(\"Second Instance\")\n",
    "\n",
    "# Displaying details\n",
    "s1.display()\n",
    "s2.display()\n",
    "\n",
    "# Output:\n",
    "# Singleton object created with name: First Instance\n",
    "# Singleton already initialized with name: First Instance\n",
    "# Singleton name: First Instance\n",
    "# Singleton name: First Instance"
   ]
  },
  {
   "cell_type": "markdown",
   "metadata": {},
   "source": [
    "### 17. Create a Python class called `Student` with a constructor that takes a list of subjects as a parameter and initializes the `subjects` attribute."
   ]
  },
  {
   "cell_type": "code",
   "execution_count": 16,
   "metadata": {},
   "outputs": [
    {
     "name": "stdout",
     "output_type": "stream",
     "text": [
      "student Name:  John Doe\n",
      "Subjects:  Math, Science, English, History\n"
     ]
    }
   ],
   "source": [
    "class Student:\n",
    "    def __init__(self, name, subjects):\n",
    "        # Initialize the student's name and subjects list\n",
    "        self.name = name\n",
    "        self.subjects = subjects\n",
    "    \n",
    "    def display_info(self):\n",
    "        print(f\"student Name:  {self.name}\")\n",
    "        print(f\"Subjects: \",\", \".join(self.subjects))\n",
    "\n",
    "student1 = Student(\"John Doe\", [\"Math\", \"Science\", \"English\", \"History\"])\n",
    "student1.display_info()\n"
   ]
  },
  {
   "cell_type": "markdown",
   "metadata": {},
   "source": [
    "### 18. What is the purpose of the `__del__` method in Python classes, and how does it relate to constructors?"
   ]
  },
  {
   "cell_type": "markdown",
   "metadata": {},
   "source": [
    "Purpose of __del__ Method:\n",
    "1. Object Cleanup: The primary purpose of the __del__ method is to perform any necessary cleanup before an object is destroyed. For example, it can close open files, release network resources, or deallocate memory that the object was using.\n",
    "1. Resource Management: It ensures that external resources, such as file handles, database connections, or sockets, are released properly when the object is no longer needed."
   ]
  },
  {
   "cell_type": "markdown",
   "metadata": {},
   "source": [
    "### 19. Explain the use of constructor chaining in Python. Provide a practical example."
   ]
  },
  {
   "cell_type": "markdown",
   "metadata": {},
   "source": [
    "- Constructor Chaining in Python refers to the process of calling a constructor of a parent class from a subclass's constructor to initialize the parent class's attributes. This ensures that the parent class's initialization is not skipped, even when a subclass constructor is overriding it.\n",
    "\n",
    "Python supports constructor chaining using the super() function. The super() function allows you to call a method from the parent class, including the constructor (__init__), from the subclass."
   ]
  },
  {
   "cell_type": "code",
   "execution_count": 17,
   "metadata": {},
   "outputs": [
    {
     "name": "stdout",
     "output_type": "stream",
     "text": [
      "Person initialized: Alice, 25 years old.\n",
      "Student initialized with student ID: S12345\n",
      "Graduate Student initialized with degree: Master of Science\n"
     ]
    }
   ],
   "source": [
    "# Example \n",
    "class Person:\n",
    "    def __init__(self, name, age):\n",
    "        self.name = name\n",
    "        self.age = age\n",
    "        print(f\"Person initialized: {self.name}, {self.age} years old.\")\n",
    "\n",
    "class Student(Person):\n",
    "    def __init__(self, name, age, student_id):\n",
    "        # Calling the parent class constructor using super() for constructor chaining\n",
    "        super().__init__(name, age)\n",
    "        self.student_id = student_id\n",
    "        print(f\"Student initialized with student ID: {self.student_id}\")\n",
    "\n",
    "class GraduateStudent(Student):\n",
    "    def __init__(self, name, age, student_id, degree):\n",
    "        # Calling the parent class constructor using super() again for constructor chaining\n",
    "        super().__init__(name, age, student_id)\n",
    "        self.degree = degree\n",
    "        print(f\"Graduate Student initialized with degree: {self.degree}\")\n",
    "\n",
    "# Creating an instance of GraduateStudent\n",
    "grad_student = GraduateStudent(\"Alice\", 25, \"S12345\", \"Master of Science\")"
   ]
  },
  {
   "cell_type": "markdown",
   "metadata": {},
   "source": [
    "### 20. Create a Python class called `Car` with a default constructor that initializes the `make` and `model` attributes. Provide a method to display car information."
   ]
  },
  {
   "cell_type": "code",
   "execution_count": 18,
   "metadata": {},
   "outputs": [
    {
     "name": "stdout",
     "output_type": "stream",
     "text": [
      "Car Make: Toyota\n",
      "Car Model: Corolla\n"
     ]
    }
   ],
   "source": [
    "class Car:\n",
    "    def __init__(self):\n",
    "        # Default constructor initializes the make and model\n",
    "        self.make = \"Toyota\"\n",
    "        self.model = \"Corolla\"\n",
    "    \n",
    "    def display_info(self):\n",
    "        # Method to display car information\n",
    "        print(f\"Car Make: {self.make}\")\n",
    "        print(f\"Car Model: {self.model}\")\n",
    "\n",
    "# Creating an instance of the Car class\n",
    "car = Car()\n",
    "\n",
    "# Displaying car information\n",
    "car.display_info()"
   ]
  },
  {
   "cell_type": "markdown",
   "metadata": {},
   "source": [
    "### **Inheritance:**"
   ]
  },
  {
   "cell_type": "markdown",
   "metadata": {},
   "source": [
    "### 1. What is inheritance in Python? Explain its significance in object-oriented programming."
   ]
  },
  {
   "cell_type": "markdown",
   "metadata": {},
   "source": [
    "- Inheritance is a fundamental concept in object-oriented programming (OOP) that allows a class (called a child or subclass) to inherit attributes and methods from another class (called a parent or superclass). This enables code reuse, extensibility, and a clear hierarchical structure in programs.\n",
    "\n",
    "Significance:\n",
    " - Simplifies Maintenance: Common functionality resides in the parent class, reducing redundancy and making maintenance easier.\n",
    " - Enhances Modularity: Allows breaking down -complex systems into smaller, more manageable pieces.\n",
    " - Supports DRY Principle: Encourages the \"Don't Repeat Yourself\" principle by centralizing reusable code."
   ]
  },
  {
   "cell_type": "markdown",
   "metadata": {},
   "source": [
    "### 2. Differentiate between single inheritance and multiple inheritance in Python. Provide examples for each."
   ]
  },
  {
   "cell_type": "markdown",
   "metadata": {},
   "source": [
    "- In single inheritance, a child class inherits from one parent class."
   ]
  },
  {
   "cell_type": "code",
   "execution_count": 1,
   "metadata": {},
   "outputs": [
    {
     "name": "stdout",
     "output_type": "stream",
     "text": [
      "Dog barks\n"
     ]
    }
   ],
   "source": [
    "# Example\n",
    "# Parent class\n",
    "class Animal:\n",
    "    def speak(self):\n",
    "        return \"Animal make sounds\"\n",
    "    \n",
    "# Child class\n",
    "class Dog(Animal):\n",
    "    def speak(self):\n",
    "        return \"Dog barks\"\n",
    "    \n",
    "# Using the classes\n",
    "dog  = Dog()\n",
    "print(dog.speak())"
   ]
  },
  {
   "cell_type": "markdown",
   "metadata": {},
   "source": [
    "- Multiple Inheritance (Simple Explanation)\n",
    "In multiple inheritance, a child class inherits from two or more parent classes."
   ]
  },
  {
   "cell_type": "code",
   "execution_count": 2,
   "metadata": {},
   "outputs": [
    {
     "name": "stdout",
     "output_type": "stream",
     "text": [
      "Engine started\n",
      "Wheels are rotating\n"
     ]
    }
   ],
   "source": [
    "# Parent class 1\n",
    "class Engine:\n",
    "    def start(self):\n",
    "        return \"Engine started\"\n",
    "\n",
    "# Parent class 2\n",
    "class Wheels:\n",
    "    def rotate(self):\n",
    "        return \"Wheels are rotating\"\n",
    "\n",
    "# Child class\n",
    "class Car(Engine, Wheels):\n",
    "    def drive(self):\n",
    "        return \"Car is driving\"\n",
    "\n",
    "# Using the classes\n",
    "car = Car()\n",
    "print(car.start()) \n",
    "print(car.rotate()) "
   ]
  },
  {
   "cell_type": "markdown",
   "metadata": {},
   "source": [
    "### 3. Create a Python class called `Vehicle` with attributes `color` and `speed`. Then, create a child class called `Car` that inherits from `Vehicle` and adds a `brand` attribute. Provide an example of creating a `Car` object."
   ]
  },
  {
   "cell_type": "code",
   "execution_count": 5,
   "metadata": {},
   "outputs": [
    {
     "name": "stdout",
     "output_type": "stream",
     "text": [
      "Brand: Toyota, Color: Red, Speed: 180 km/h\n"
     ]
    }
   ],
   "source": [
    "# Parent class\n",
    "class Vehicle:\n",
    "    def __init__(self, color, speed):\n",
    "        self.color = color\n",
    "        self.speed = speed\n",
    "\n",
    "    def display_info(self):\n",
    "        return f\"Color: {self.color}, Speed: {self.speed} km/h\"\n",
    "\n",
    "# Child class\n",
    "class Car(Vehicle):\n",
    "    def __init__(self, color, speed, brand):\n",
    "        super().__init__(color, speed)\n",
    "        self.brand = brand\n",
    "\n",
    "    def display_info(self):\n",
    "        return f\"Brand: {self.brand}, Color: {self.color}, Speed: {self.speed} km/h\"\n",
    "\n",
    "# Creating a Car object\n",
    "my_car = Car(\"Red\", 180, \"Toyota\")\n",
    "print(my_car.display_info()) \n"
   ]
  },
  {
   "cell_type": "markdown",
   "metadata": {},
   "source": [
    "### 4. Explain the concept of method overriding in inheritance. Provide a practical example."
   ]
  },
  {
   "cell_type": "markdown",
   "metadata": {},
   "source": [
    "- Method overriding occurs in inheritance when a child class provides a specific implementation for a method that is already defined in its parent class. The method in the child class overrides the one in the parent class, allowing the child class to provide customized behavior."
   ]
  },
  {
   "cell_type": "code",
   "execution_count": 6,
   "metadata": {},
   "outputs": [
    {
     "name": "stdout",
     "output_type": "stream",
     "text": [
      "Dogs bark\n",
      "Cats meow\n"
     ]
    }
   ],
   "source": [
    "# Parent class\n",
    "class Animal:\n",
    "    def sound(self):\n",
    "        return \"Animals make sounds\"\n",
    "\n",
    "# Child class\n",
    "class Dog(Animal):\n",
    "    def sound(self):\n",
    "        return \"Dogs bark\"\n",
    "\n",
    "class Cat(Animal):\n",
    "    def sound(self):\n",
    "        return \"Cats meow\"\n",
    "\n",
    "# Using the classes\n",
    "dog = Dog()\n",
    "cat = Cat()\n",
    "\n",
    "print(dog.sound())  \n",
    "print(cat.sound())  "
   ]
  },
  {
   "cell_type": "markdown",
   "metadata": {},
   "source": [
    "### 5. How can you access the methods and attributes of a parent class from a child class in Python? Give an example."
   ]
  },
  {
   "cell_type": "markdown",
   "metadata": {},
   "source": [
    "\n",
    "- In Python, you can access the methods and attributes of a parent class from a child class using the super() function or by directly referencing the parent class name."
   ]
  },
  {
   "cell_type": "code",
   "execution_count": 7,
   "metadata": {},
   "outputs": [
    {
     "name": "stdout",
     "output_type": "stream",
     "text": [
      "Color: Blue, Speed: 150 km/h, Brand: Honda\n"
     ]
    }
   ],
   "source": [
    "# Parent class\n",
    "class Vehicle:\n",
    "    def __init__(self, color, speed):\n",
    "        self.color = color\n",
    "        self.speed = speed\n",
    "\n",
    "    def display_info(self):\n",
    "        return f\"Color: {self.color}, Speed: {self.speed} km/h\"\n",
    "\n",
    "# Child class\n",
    "class Car(Vehicle):\n",
    "    def __init__(self, color, speed, brand):\n",
    "        super().__init__(color, speed)  # Accessing parent class's __init__\n",
    "        self.brand = brand\n",
    "\n",
    "    def display_info(self):\n",
    "        parent_info = super().display_info()  # Accessing parent class's method\n",
    "        return f\"{parent_info}, Brand: {self.brand}\"\n",
    "\n",
    "# Create a Car object\n",
    "my_car = Car(\"Blue\", 150, \"Honda\")\n",
    "print(my_car.display_info()) "
   ]
  },
  {
   "cell_type": "markdown",
   "metadata": {},
   "source": [
    "### 6. 6. Discuss the use of the `super()` function in Python inheritance. When and why is it used? Provide an example."
   ]
  },
  {
   "cell_type": "markdown",
   "metadata": {},
   "source": [
    "- The super() function is used in Python inheritance to access methods or attributes of a parent class from within a child class. It allows a child class to extend or modify the functionality of the parent class without having to explicitly refer to the parent class by name."
   ]
  },
  {
   "cell_type": "markdown",
   "metadata": {},
   "source": [
    "- When to Use super():\n",
    "Overriding Methods: To extend or modify the behavior of a parent class method.\n",
    "Calling Parent Initializers: To ensure the parent class is properly initialized when defining a child class.\n",
    "Multiple Inheritance: To ensure the proper resolution of methods using the Method Resolution Order (MRO)."
   ]
  },
  {
   "cell_type": "code",
   "execution_count": 8,
   "metadata": {},
   "outputs": [
    {
     "name": "stdout",
     "output_type": "stream",
     "text": [
      "Buddy makes a sound. Specifically, Buddy barks because it is a Golden Retriever.\n"
     ]
    }
   ],
   "source": [
    "# Parent class\n",
    "class Animal:\n",
    "    def __init__(self, name):\n",
    "        self.name = name\n",
    "\n",
    "    def speak(self):\n",
    "        return f\"{self.name} makes a sound.\"\n",
    "\n",
    "# Child class\n",
    "class Dog(Animal):\n",
    "    def __init__(self, name, breed):\n",
    "        super().__init__(name)  # Call parent class's __init__\n",
    "        self.breed = breed\n",
    "\n",
    "    def speak(self):\n",
    "        parent_speak = super().speak()  # Call parent class's speak method\n",
    "        return f\"{parent_speak} Specifically, {self.name} barks because it is a {self.breed}.\"\n",
    "\n",
    "# Creating a Dog object\n",
    "dog = Dog(\"Buddy\", \"Golden Retriever\")\n",
    "print(dog.speak())\n"
   ]
  },
  {
   "cell_type": "markdown",
   "metadata": {},
   "source": [
    "### 7. Create a Python class called `Animal` with a method `speak()`. Then, create child classes `Dog` and `Cat`"
   ]
  },
  {
   "cell_type": "code",
   "execution_count": 9,
   "metadata": {},
   "outputs": [
    {
     "name": "stdout",
     "output_type": "stream",
     "text": [
      "Dogs bark\n",
      "Cats meow\n"
     ]
    }
   ],
   "source": [
    "# Parent class\n",
    "class Animal:\n",
    "    def speak(self):\n",
    "        return \"Animals make sounds\"\n",
    "\n",
    "# Child class 1\n",
    "class Dog(Animal):\n",
    "    def speak(self):\n",
    "        return \"Dogs bark\"\n",
    "\n",
    "# Child class 2\n",
    "class Cat(Animal):\n",
    "    def speak(self):\n",
    "        return \"Cats meow\"\n",
    "\n",
    "# Creating objects and testing\n",
    "dog = Dog()\n",
    "cat = Cat()\n",
    "\n",
    "print(dog.speak())  \n",
    "print(cat.speak())  "
   ]
  },
  {
   "cell_type": "markdown",
   "metadata": {},
   "source": [
    "### 8. Explain the role of the `isinstance()` function in Python and how it relates to inheritance."
   ]
  },
  {
   "cell_type": "markdown",
   "metadata": {},
   "source": [
    "\n",
    "- Role of the isinstance() Function in Python\n",
    "  - The isinstance() function is used to check if an object is an instance of a specified class or a tuple of classes. It is particularly useful for ensuring that an object is of a certain type or class, making it a key tool for working with object-oriented programming and inheritance."
   ]
  },
  {
   "cell_type": "markdown",
   "metadata": {},
   "source": [
    "- How It Relates to Inheritance:\n",
    "  - isinstance() checks if an object is an instance of a specific class or any of its subclasses.\n",
    "This allows for checking whether an object belongs to a class in an inheritance hierarchy, making it useful for polymorphic behavior.\n"
   ]
  },
  {
   "cell_type": "markdown",
   "metadata": {},
   "source": [
    "### 9. What is the purpose of the `issubclass()` function in Python? Provide an example."
   ]
  },
  {
   "cell_type": "markdown",
   "metadata": {},
   "source": [
    "- Purpose of the issubclass() Function in Python\n",
    "- The issubclass() function is used to check if a class is a subclass of another class. It is particularly useful in inheritance to verify the relationships between classes in a hierarchy."
   ]
  },
  {
   "cell_type": "code",
   "execution_count": 10,
   "metadata": {},
   "outputs": [
    {
     "name": "stdout",
     "output_type": "stream",
     "text": [
      "True\n",
      "True\n",
      "False\n",
      "True\n"
     ]
    }
   ],
   "source": [
    "# Parent class\n",
    "class Animal:\n",
    "    pass\n",
    "\n",
    "# Child classes\n",
    "class Dog(Animal):\n",
    "    pass\n",
    "\n",
    "class Cat(Animal):\n",
    "    pass\n",
    "\n",
    "# Checking subclass relationships\n",
    "print(issubclass(Dog, Animal))  # Output: True (Dog is a subclass of Animal)\n",
    "print(issubclass(Cat, Animal))  # Output: True (Cat is a subclass of Animal)\n",
    "print(issubclass(Dog, Cat))     # Output: False (Dog is not a subclass of Cat)\n",
    "\n",
    "# Checking with multiple classes\n",
    "print(issubclass(Dog, (Animal, Cat)))  # Output: True (Dog is a subclass of Animal)"
   ]
  },
  {
   "cell_type": "markdown",
   "metadata": {},
   "source": [
    "### 10. Discuss the concept of constructor inheritance in Python. How are constructors inherited in child classes?"
   ]
  },
  {
   "cell_type": "markdown",
   "metadata": {},
   "source": [
    "- Constructor Inheritance in Python\n",
    "In Python, constructors are defined using the __init__ method. When a child class inherits from a parent class, it does not automatically inherit the parent's constructor (__init__) unless explicitly called using the super() function or the parent class name.\n",
    "\n",
    "- If a constructor is defined in the child class, it overrides the parent's constructor."
   ]
  },
  {
   "cell_type": "markdown",
   "metadata": {},
   "source": [
    "### 11. Create a Python class called `Shape` with a method `area()` that calculates the area of a shape. Then, create child classes `Circle` and `Rectangle` that inherit from `Shape` and implement the `area()` method accordingly. Provide an example."
   ]
  },
  {
   "cell_type": "code",
   "execution_count": 11,
   "metadata": {},
   "outputs": [
    {
     "name": "stdout",
     "output_type": "stream",
     "text": [
      "Area of the circle: 78.54\n",
      "Area of the rectangle: 24\n"
     ]
    }
   ],
   "source": [
    "import math\n",
    "\n",
    "# Parent class\n",
    "class Shape:\n",
    "    def area(self):\n",
    "        raise NotImplementedError(\"The area() method must be implemented by subclasses\")\n",
    "\n",
    "# Child class for Circle\n",
    "class Circle(Shape):\n",
    "    def __init__(self, radius):\n",
    "        self.radius = radius\n",
    "\n",
    "    def area(self):\n",
    "        return math.pi * self.radius ** 2\n",
    "\n",
    "# Child class for Rectangle\n",
    "class Rectangle(Shape):\n",
    "    def __init__(self, width, height):\n",
    "        self.width = width\n",
    "        self.height = height\n",
    "\n",
    "    def area(self):\n",
    "        return self.width * self.height\n",
    "\n",
    "# Example usage\n",
    "circle = Circle(radius=5)\n",
    "rectangle = Rectangle(width=4, height=6)\n",
    "\n",
    "print(f\"Area of the circle: {circle.area():.2f}\")  # Output: Area of the circle: 78.54\n",
    "print(f\"Area of the rectangle: {rectangle.area()}\")  # Output: Area of the rectangle: 24"
   ]
  },
  {
   "cell_type": "markdown",
   "metadata": {},
   "source": [
    "### 12. Explain the use of abstract base classes (ABCs) in Python and how they relate to inheritance. Provide an example using the `abc` module."
   ]
  },
  {
   "cell_type": "markdown",
   "metadata": {},
   "source": [
    "- Abstract Base Classes (ABCs) in Python\n",
    "Abstract Base Classes (ABCs) in Python provide a way to define a blueprint for other classes. ABCs cannot be instantiated directly and are meant to be inherited by other classes, which then implement the abstract methods defined in the ABC. They are commonly used to enforce that certain methods or properties exist in a subclass.\n",
    "\n",
    "The abc module in Python is used to define abstract base classes. This module provides the ABC class and the @abstractmethod decorator to define abstract methods."
   ]
  },
  {
   "cell_type": "code",
   "execution_count": 12,
   "metadata": {},
   "outputs": [
    {
     "name": "stdout",
     "output_type": "stream",
     "text": [
      "Circle area: 78.5\n",
      "Circle perimeter: 31.400000000000002\n",
      "Rectangle area: 24\n",
      "Rectangle perimeter: 20\n"
     ]
    }
   ],
   "source": [
    "from abc import ABC, abstractmethod\n",
    "\n",
    "class Shape(ABC):\n",
    "    @abstractmethod\n",
    "    def area(self):\n",
    "        \"\"\"Calculate the area of the shape\"\"\"\n",
    "        pass\n",
    "\n",
    "    @abstractmethod\n",
    "    def perimeter(self):\n",
    "        \"\"\"Calculate the perimeter of the shape\"\"\"\n",
    "        pass\n",
    "\n",
    "class Circle(Shape):\n",
    "    def __init__(self, radius):\n",
    "        self.radius = radius\n",
    "\n",
    "    def area(self):\n",
    "        return 3.14 * self.radius ** 2\n",
    "\n",
    "    def perimeter(self):\n",
    "        return 2 * 3.14 * self.radius\n",
    "\n",
    "# Concrete class: Rectangle\n",
    "class Rectangle(Shape):\n",
    "    def __init__(self, width, height):\n",
    "        self.width = width\n",
    "        self.height = height\n",
    "\n",
    "    def area(self):\n",
    "        return self.width * self.height\n",
    "\n",
    "    def perimeter(self):\n",
    "        return 2 * (self.width + self.height)\n",
    "\n",
    "# Example usage\n",
    "circle = Circle(radius=5)\n",
    "rectangle = Rectangle(width=4, height=6)\n",
    "\n",
    "print(f\"Circle area: {circle.area()}\") \n",
    "print(f\"Circle perimeter: {circle.perimeter()}\")\n",
    "print(f\"Rectangle area: {rectangle.area()}\")  \n",
    "print(f\"Rectangle perimeter: {rectangle.perimeter()}\")  "
   ]
  },
  {
   "cell_type": "markdown",
   "metadata": {},
   "source": [
    "### 13. How can you prevent a child class from modifying certain attributes or methods inherited from a parent class in Python?"
   ]
  },
  {
   "cell_type": "markdown",
   "metadata": {},
   "source": [
    "- To prevent child classes from modifying certain attributes or methods:\n",
    "\n",
    "1. Use private attributes or methods (__attr or __method).\n",
    "2. Mark methods as final using the @final decorator (Python 3.8+).\n",
    "3. Raise exceptions in overridden methods to enforce behavior.\n",
    "4. Prefer composition over inheritance for complete control."
   ]
  },
  {
   "cell_type": "markdown",
   "metadata": {},
   "source": [
    "### 14. Create a Python class called `Employee` with attributes `name` and `salary`. Then, create a child class `Manager` that inherits from `Employee` and adds an attribute `department`. Provide an example."
   ]
  },
  {
   "cell_type": "code",
   "execution_count": 13,
   "metadata": {},
   "outputs": [
    {
     "name": "stdout",
     "output_type": "stream",
     "text": [
      "Name: Alice, Salary: $50000\n",
      "Name: Bob, Salary: $80000, Department: IT\n"
     ]
    }
   ],
   "source": [
    "# Parent class\n",
    "class Employee:\n",
    "    def __init__(self, name, salary):\n",
    "        self.name = name\n",
    "        self.salary = salary\n",
    "\n",
    "    def display_info(self):\n",
    "        return f\"Name: {self.name}, Salary: ${self.salary}\"\n",
    "\n",
    "# Child class\n",
    "class Manager(Employee):\n",
    "    def __init__(self, name, salary, department):\n",
    "        # Call the parent class constructor\n",
    "        super().__init__(name, salary)\n",
    "        self.department = department\n",
    "\n",
    "    def display_info(self):\n",
    "        # Extend the parent class method\n",
    "        return f\"Name: {self.name}, Salary: ${self.salary}, Department: {self.department}\"\n",
    "\n",
    "# Example usage\n",
    "employee = Employee(\"Alice\", 50000)\n",
    "manager = Manager(\"Bob\", 80000, \"IT\")\n",
    "\n",
    "print(employee.display_info())  # Output: Name: Alice, Salary: $50000\n",
    "print(manager.display_info())   # Output: Name: Bob, Salary: $80000, Department: IT"
   ]
  },
  {
   "cell_type": "markdown",
   "metadata": {},
   "source": [
    "### 15. Discuss the use of accessors and mutators in encapsulation. How do they help maintain control over attribute access?"
   ]
  },
  {
   "cell_type": "markdown",
   "metadata": {},
   "source": [
    "- Accessors and Mutators in Encapsulation\n",
    "In object-oriented programming, encapsulation is the practice of restricting direct access to an object's attributes and instead providing controlled access through accessors and mutators. These are commonly referred to as getters and setters.\n",
    "\n",
    "\n",
    "- How Accessors and Mutators Maintain Control:\n",
    "1. Encapsulation:\n",
    "\n",
    "- Attributes are kept private (e.g., __name, __salary) to prevent direct access.\n",
    "- Controlled access is provided via accessors and mutators.\n",
    "2. Validation:\n",
    "\n",
    "- Mutators validate input before modifying attributes (e.g., ensuring salary is positive).\n",
    "3. Flexibility:\n",
    "\n",
    "- You can add extra logic (e.g., logging or triggering events) without exposing internal details."
   ]
  },
  {
   "cell_type": "markdown",
   "metadata": {},
   "source": [
    "### 16. What are the potential drawbacks or disadvantages of using encapsulation in Python?"
   ]
  },
  {
   "cell_type": "markdown",
   "metadata": {},
   "source": [
    "- While encapsulation is valuable for maintaining control and protecting data integrity, its misuse or overuse can lead to unnecessary complexity, reduced flexibility, and performance overhead. In Python, it’s often better to strike a balance and follow Pythonic conventions like using @property decorators for controlled attribute access when needed."
   ]
  },
  {
   "cell_type": "markdown",
   "metadata": {},
   "source": [
    "### 17. Create a Python class called `Bird` with a method `fly()`. Then, create child classes `Eagle` and `Sparrow` that inherit from `Bird` and implement the `fly()` method differently. Provide an example of using these classes."
   ]
  },
  {
   "cell_type": "code",
   "execution_count": 14,
   "metadata": {},
   "outputs": [
    {
     "name": "stdout",
     "output_type": "stream",
     "text": [
      "The eagle soars high in the sky.\n",
      "The sparrow flaps its wings and flies quickly.\n"
     ]
    }
   ],
   "source": [
    "# Parent class\n",
    "class Bird:\n",
    "    def fly(self):\n",
    "        raise NotImplementedError(\"Subclass must implement abstract method\")\n",
    "\n",
    "# Child class: Eagle\n",
    "class Eagle(Bird):\n",
    "    def fly(self):\n",
    "        return \"The eagle soars high in the sky.\"\n",
    "\n",
    "# Child class: Sparrow\n",
    "class Sparrow(Bird):\n",
    "    def fly(self):\n",
    "        return \"The sparrow flaps its wings and flies quickly.\"\n",
    "\n",
    "# Example usage\n",
    "eagle = Eagle()\n",
    "sparrow = Sparrow()\n",
    "\n",
    "print(eagle.fly())   # Output: The eagle soars high in the sky.\n",
    "print(sparrow.fly())  # Output: The sparrow flaps its wings and flies quickly."
   ]
  },
  {
   "cell_type": "markdown",
   "metadata": {},
   "source": [
    "### 18. What is the \"diamond problem\" in multiple inheritance, and how does Python address it?"
   ]
  },
  {
   "cell_type": "markdown",
   "metadata": {},
   "source": [
    "- The Diamond Problem in Multiple Inheritance\n",
    "The diamond problem (also known as the deadly diamond of death) is a classic problem in object-oriented programming that arises when a class inherits from two classes that have a common ancestor. This creates an ambiguous situation where the inheritance hierarchy forms a diamond shape."
   ]
  },
  {
   "cell_type": "code",
   "execution_count": 15,
   "metadata": {},
   "outputs": [
    {
     "name": "stdout",
     "output_type": "stream",
     "text": [
      "B speaks\n"
     ]
    }
   ],
   "source": [
    "class A:\n",
    "    def speak(self):\n",
    "        return \"A speaks\"\n",
    "\n",
    "class B(A):\n",
    "    def speak(self):\n",
    "        return \"B speaks\"\n",
    "\n",
    "class C(A):\n",
    "    def speak(self):\n",
    "        return \"C speaks\"\n",
    "\n",
    "class D(B, C):\n",
    "    pass\n",
    "\n",
    "# Example usage\n",
    "d = D()\n",
    "print(d.speak())  # Output: B speaks"
   ]
  },
  {
   "cell_type": "markdown",
   "metadata": {},
   "source": [
    "### 19. Discuss the concept of \"is-a\" and \"has-a\" relationships in inheritance, and provide examples of each."
   ]
  },
  {
   "cell_type": "markdown",
   "metadata": {},
   "source": [
    "- \"Is-a\" and \"Has-a\" Relationships in Inheritance\n",
    "In object-oriented programming (OOP), the concepts of \"is-a\" and \"has-a\" relationships help define the types of associations between classes. These relationships are key to understanding how inheritance works and how classes are structured."
   ]
  },
  {
   "cell_type": "code",
   "execution_count": 16,
   "metadata": {},
   "outputs": [
    {
     "name": "stdout",
     "output_type": "stream",
     "text": [
      "True\n",
      "True\n"
     ]
    }
   ],
   "source": [
    "class Animal:\n",
    "    def speak(self):\n",
    "        return \"Some generic animal sound\"\n",
    "\n",
    "class Dog(Animal):\n",
    "    def speak(self):\n",
    "        return \"Woof!\"\n",
    "\n",
    "class Cat(Animal):\n",
    "    def speak(self):\n",
    "        return \"Meow!\"\n",
    "\n",
    "# Example usage\n",
    "dog = Dog()\n",
    "cat = Cat()\n",
    "\n",
    "print(isinstance(dog, Animal))  # Output: True (Dog \"is a\" Animal)\n",
    "print(isinstance(cat, Animal))  # Output: True (Cat \"is a\" Animal)"
   ]
  },
  {
   "cell_type": "markdown",
   "metadata": {},
   "source": [
    "### 20. Create a Python class hierarchy for a university system. Start with a base class `Person` and create child classes `Student` and `Professor`, each with their own attributes and methods. Provide an example of using these classes in a university context."
   ]
  },
  {
   "cell_type": "code",
   "execution_count": 17,
   "metadata": {},
   "outputs": [
    {
     "name": "stdout",
     "output_type": "stream",
     "text": [
      "Name: Alice, Age: 20, Student ID: S12345, Major: Computer Science\n",
      "Name: Dr. Smith, Age: 45, Employee ID: P67890, Department: Mathematics\n",
      "Alice is studying.\n",
      "Dr. Smith is teaching.\n"
     ]
    }
   ],
   "source": [
    "# Base class: Person\n",
    "class Person:\n",
    "    def __init__(self, name, age):\n",
    "        self.name = name\n",
    "        self.age = age\n",
    "\n",
    "    def get_details(self):\n",
    "        return f\"Name: {self.name}, Age: {self.age}\"\n",
    "\n",
    "# Child class: Student\n",
    "class Student(Person):\n",
    "    def __init__(self, name, age, student_id, major):\n",
    "        super().__init__(name, age)  # Calling the constructor of the base class\n",
    "        self.student_id = student_id\n",
    "        self.major = major\n",
    "\n",
    "    def get_details(self):\n",
    "        base_details = super().get_details()\n",
    "        return f\"{base_details}, Student ID: {self.student_id}, Major: {self.major}\"\n",
    "\n",
    "    def study(self):\n",
    "        return f\"{self.name} is studying.\"\n",
    "\n",
    "# Child class: Professor\n",
    "class Professor(Person):\n",
    "    def __init__(self, name, age, employee_id, department):\n",
    "        super().__init__(name, age)  # Calling the constructor of the base class\n",
    "        self.employee_id = employee_id\n",
    "        self.department = department\n",
    "\n",
    "    def get_details(self):\n",
    "        base_details = super().get_details()\n",
    "        return f\"{base_details}, Employee ID: {self.employee_id}, Department: {self.department}\"\n",
    "\n",
    "    def teach(self):\n",
    "        return f\"{self.name} is teaching.\"\n",
    "\n",
    "# Example usage\n",
    "# Create a student and a professor\n",
    "student = Student(\"Alice\", 20, \"S12345\", \"Computer Science\")\n",
    "professor = Professor(\"Dr. Smith\", 45, \"P67890\", \"Mathematics\")\n",
    "\n",
    "# Print their details\n",
    "print(student.get_details())  # Output: Name: Alice, Age: 20, Student ID: S12345, Major: Computer Science\n",
    "print(professor.get_details())  # Output: Name: Dr. Smith, Age: 45, Employee ID: P67890, Department: Mathematics\n",
    "\n",
    "# Calling specific methods for each type\n",
    "print(student.study())  # Output: Alice is studying.\n",
    "print(professor.teach())  # Output: Dr. Smith is teaching."
   ]
  },
  {
   "cell_type": "code",
   "execution_count": null,
   "metadata": {},
   "outputs": [],
   "source": []
  }
 ],
 "metadata": {
  "kernelspec": {
   "display_name": "Python 3",
   "language": "python",
   "name": "python3"
  },
  "language_info": {
   "codemirror_mode": {
    "name": "ipython",
    "version": 3
   },
   "file_extension": ".py",
   "mimetype": "text/x-python",
   "name": "python",
   "nbconvert_exporter": "python",
   "pygments_lexer": "ipython3",
   "version": "3.13.1"
  }
 },
 "nbformat": 4,
 "nbformat_minor": 2
}
