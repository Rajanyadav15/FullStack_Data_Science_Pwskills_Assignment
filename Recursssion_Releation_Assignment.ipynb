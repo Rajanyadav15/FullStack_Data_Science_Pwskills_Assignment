{
 "cells": [
  {
   "cell_type": "markdown",
   "metadata": {},
   "source": [
    "### 1.Find the value of T(2) for the recurrence relation T(n) = 3T(n-1) + 12n, given that T(0)=5."
   ]
  },
  {
   "cell_type": "code",
   "execution_count": 1,
   "metadata": {},
   "outputs": [
    {
     "name": "stdout",
     "output_type": "stream",
     "text": [
      "105\n"
     ]
    }
   ],
   "source": [
    "def T(n):\n",
    "    if n == 0:\n",
    "        return 5  # Base case\n",
    "    return 3 * T(n - 1) + 12 * n  # Recurrence relation\n",
    "\n",
    "# Calculate T(2)\n",
    "result = T(2)\n",
    "print(result)"
   ]
  },
  {
   "cell_type": "markdown",
   "metadata": {},
   "source": [
    "### 2. Given a recurrence relation, solve it using the substitution method:\n",
    "a. T(n) = T(n-1) + c\n",
    "b. T(n) = 2T(n/2) + n\n",
    "c. T(n) = 2T(n/2) + c\n",
    "d. T(n) = T(n/2) + c"
   ]
  },
  {
   "cell_type": "code",
   "execution_count": 2,
   "metadata": {},
   "outputs": [
    {
     "name": "stdout",
     "output_type": "stream",
     "text": [
      "17\n"
     ]
    }
   ],
   "source": [
    "# a. T(n) = T(n-1) + c\n",
    "def T_a(n, c, T0):\n",
    "    return T0 + n * c\n",
    "\n",
    "# Example\n",
    "print(T_a(5, 3, 2))  # T(5), c=3, T(0)=2"
   ]
  },
  {
   "cell_type": "code",
   "execution_count": 4,
   "metadata": {},
   "outputs": [
    {
     "name": "stdout",
     "output_type": "stream",
     "text": [
      "32\n"
     ]
    }
   ],
   "source": [
    "# b. T(n) = 2T(n/2) +n\n",
    "def T_b(n, T1):\n",
    "    if n == 1:\n",
    "        return T1\n",
    "    return 2 * T_b(n // 2, T1) + n\n",
    "\n",
    "# Example\n",
    "print(T_b(8, 1)) "
   ]
  },
  {
   "cell_type": "code",
   "execution_count": 5,
   "metadata": {},
   "outputs": [
    {
     "name": "stdout",
     "output_type": "stream",
     "text": [
      "29\n"
     ]
    }
   ],
   "source": [
    "# c. T(n) = 2T(n/2) + c\n",
    "def T_c(n, c, T1):\n",
    "    if n == 1:\n",
    "        return T1\n",
    "    return 2 * T_c(n // 2, c, T1) + c\n",
    "\n",
    "# Example\n",
    "print(T_c(8, 3, 1)) "
   ]
  },
  {
   "cell_type": "code",
   "execution_count": 6,
   "metadata": {},
   "outputs": [
    {
     "name": "stdout",
     "output_type": "stream",
     "text": [
      "7\n"
     ]
    }
   ],
   "source": [
    "# d. T(n) = T(n/2) + c\n",
    "def T_d(n, c, T1):\n",
    "    if n == 1:\n",
    "        return T1\n",
    "    return T_d(n // 2, c, T1) + c\n",
    "\n",
    "# Example\n",
    "print(T_d(8, 2, 1))"
   ]
  },
  {
   "cell_type": "markdown",
   "metadata": {},
   "source": [
    "### 3. Given a recurrence relation, solve it using the recursive tree approach:\n",
    "a. T(n) = 2T(n-1) +1\n",
    "b. T(n) = 2T(n/2) + n"
   ]
  },
  {
   "cell_type": "code",
   "execution_count": 7,
   "metadata": {},
   "outputs": [
    {
     "name": "stdout",
     "output_type": "stream",
     "text": [
      "T(5) = 31\n"
     ]
    }
   ],
   "source": [
    "#  T(n) = 2T(n-1) + 1\n",
    "def T_a(n):\n",
    "    if n == 0:\n",
    "        return 0  # Base case, T(0) = 0\n",
    "    return 2 * T_a(n - 1) + 1  \n",
    "\n",
    "# Example usage\n",
    "n = 5\n",
    "result = T_a(n)\n",
    "print(f\"T({n}) = {result}\") "
   ]
  },
  {
   "cell_type": "code",
   "execution_count": 8,
   "metadata": {},
   "outputs": [
    {
     "name": "stdout",
     "output_type": "stream",
     "text": [
      "T(8) = 32\n"
     ]
    }
   ],
   "source": [
    "# b. T(n) = 2T(n/2) + n\n",
    "def T_b(n):\n",
    "    if n == 1:\n",
    "        return 1  # Base case, T(1) = 1\n",
    "    return 2 * T_b(n // 2) + n  # Apply the recurrence relation\n",
    "\n",
    "# Example usage\n",
    "n = 8\n",
    "result = T_b(n)\n",
    "print(f\"T({n}) = {result}\")  # Output: T(8) = 49 (which is O(n log n))"
   ]
  },
  {
   "cell_type": "code",
   "execution_count": null,
   "metadata": {},
   "outputs": [],
   "source": []
  }
 ],
 "metadata": {
  "kernelspec": {
   "display_name": "Python 3",
   "language": "python",
   "name": "python3"
  },
  "language_info": {
   "codemirror_mode": {
    "name": "ipython",
    "version": 3
   },
   "file_extension": ".py",
   "mimetype": "text/x-python",
   "name": "python",
   "nbconvert_exporter": "python",
   "pygments_lexer": "ipython3",
   "version": "3.13.1"
  }
 },
 "nbformat": 4,
 "nbformat_minor": 2
}
